{
 "cells": [
  {
   "cell_type": "code",
   "execution_count": 474,
   "id": "89889b78",
   "metadata": {},
   "outputs": [
    {
     "name": "stdout",
     "output_type": "stream",
     "text": [
      "The autoreload extension is already loaded. To reload it, use:\n",
      "  %reload_ext autoreload\n"
     ]
    }
   ],
   "source": [
    "import sys, os, csv, datetime\n",
    "from typing import Dict\n",
    "parent_directory = os.path.split(os.getcwd())[0]\n",
    "src_directory = os.path.join(parent_directory, 'src')\n",
    "data_directory = os.path.join(parent_directory, 'data')\n",
    "ephemeris_data_directory = os.path.join(data_directory, 'ephemeris')\n",
    "sys.path.insert(0, src_directory)\n",
    "\n",
    "from mpl_toolkits.mplot3d import Axes3D\n",
    "from sklearn.preprocessing import StandardScaler\n",
    "import matplotlib.pyplot as plt # plotting\n",
    "import numpy as np # linear algebra\n",
    "import pandas as pd # data processing, CSV file I/O (e.g. pd.read_csv)\n",
    "import torch\n",
    "from torch.utils.data import DataLoader\n",
    "from torch.utils.data import Dataset\n",
    "import torch.nn.functional as F\n",
    "import torch.nn as nn\n",
    "from tqdm import tqdm\n",
    "from torch.utils.tensorboard import SummaryWriter\n",
    "import hydra\n",
    "from omegaconf import DictConfig, OmegaConf\n",
    "\n",
    "import gnss_lib.coordinates as coord\n",
    "import gnss_lib.read_nmea as nmea\n",
    "import gnss_lib.utils as utils \n",
    "import gnss_lib.solve_pos as solve_pos\n",
    "from correction_network.attention import *\n",
    "from simple_problems.topkitems import KTopItemsDataset\n",
    "from simple_problems.sumitems import SumItemsDataset\n",
    "\n",
    "%load_ext autoreload\n",
    "%autoreload 2"
   ]
  },
  {
   "cell_type": "code",
   "execution_count": 475,
   "id": "566bcafc",
   "metadata": {},
   "outputs": [],
   "source": [
    "class TestNet(nn.Module):\n",
    "    def __init__(self):\n",
    "        super().__init__()\n",
    "        self.ff1 = nn.Sequential(\n",
    "            nn.Linear(5, 16),\n",
    "            nn.ReLU(),\n",
    "#             nn.Linear(16, 16),\n",
    "#             nn.ReLU(),\n",
    "        )\n",
    "        self.seq_enc = TEB(16, 1, num_layers=2, batch_first=True)\n",
    "        self.ff2 = nn.Sequential(\n",
    "            nn.Linear(16, 16),\n",
    "            nn.ReLU(),\n",
    "            nn.Linear(16, 1),\n",
    "            nn.Sigmoid()\n",
    "        )\n",
    "\n",
    "    def forward(self, X, pad_mask=None):\n",
    "        X = self.ff1(X)\n",
    "        X = self.seq_enc(X, pad_mask=pad_mask)\n",
    "        out = self.ff2(X)\n",
    "        return out\n",
    "net = TestNet()"
   ]
  },
  {
   "cell_type": "code",
   "execution_count": 476,
   "id": "a2bddffa",
   "metadata": {},
   "outputs": [],
   "source": [
    "tmp_dataset = KTopItemsDataset()\n",
    "train_dataloader = DataLoader(tmp_dataset, batch_size=1, shuffle=True)\n",
    "\n",
    "criterion = nn.BCELoss()\n",
    "optimizer = torch.optim.SGD(net.parameters(), lr=0.01, momentum=0.9)"
   ]
  },
  {
   "cell_type": "code",
   "execution_count": 483,
   "id": "3e3c4a66",
   "metadata": {},
   "outputs": [
    {
     "data": {
      "text/plain": [
       "(tensor([2.8261e-05, 2.6308e-05, 9.9832e-01, 4.3842e-05, 2.7971e-05],\n",
       "        grad_fn=<SqueezeBackward1>),\n",
       " tensor([0., 0., 1., 0., 0.]))"
      ]
     },
     "execution_count": 483,
     "metadata": {},
     "output_type": "execute_result"
    }
   ],
   "source": [
    "tmp_in, tmp_lab, tmp_mask = tmp_dataset[5]\n",
    "tmp_out = net(tmp_in)\n",
    "tmp_out.squeeze(-1), tmp_lab\n",
    "# tmp_in, tmp_lab, tmp_mask"
   ]
  },
  {
   "cell_type": "code",
   "execution_count": 478,
   "id": "ac0fd200",
   "metadata": {
    "scrolled": true
   },
   "outputs": [
    {
     "name": "stdout",
     "output_type": "stream",
     "text": [
      "[1,     2] loss: 0.001\n",
      "[2,     2] loss: 0.000\n",
      "[3,     2] loss: 0.000\n",
      "[4,     2] loss: 0.000\n",
      "[5,     2] loss: 0.000\n",
      "[6,     2] loss: 0.001\n",
      "[7,     2] loss: 0.000\n",
      "[8,     2] loss: 0.000\n",
      "[9,     2] loss: 0.000\n",
      "[10,     2] loss: 0.000\n",
      "[11,     2] loss: 0.000\n",
      "[12,     2] loss: 0.000\n",
      "[13,     2] loss: 0.000\n",
      "[14,     2] loss: 0.000\n",
      "[15,     2] loss: 0.000\n",
      "[16,     2] loss: 0.000\n",
      "[17,     2] loss: 0.000\n",
      "[18,     2] loss: 0.000\n",
      "[19,     2] loss: 0.000\n",
      "[20,     2] loss: 0.000\n",
      "Finished Training\n"
     ]
    }
   ],
   "source": [
    "for epoch in range(20):  # loop over the dataset multiple times\n",
    "\n",
    "    running_loss = 0.0\n",
    "    for i, data in enumerate(train_dataloader, 0):\n",
    "        # get the inputs; data is a list of [inputs, labels]\n",
    "        inputs, labels, mask = data\n",
    "        \n",
    "        # zero the parameter gradients\n",
    "        optimizer.zero_grad()\n",
    "\n",
    "        # forward + backward + optimize\n",
    "        outputs = net(inputs, mask)\n",
    "#         print(outputs.squeeze(-1), labels.reshape(-1, 1).expand(outputs.shape[:-1]))\n",
    "#         raise\n",
    "        loss = criterion(outputs.squeeze(-1), labels) # .reshape(-1, 1).expand(outputs.shape[:-1])\n",
    "        loss.backward()\n",
    "        optimizer.step()\n",
    "\n",
    "        # print statistics\n",
    "        running_loss += loss.item()\n",
    "        if i % 100 == 1:    # print every k mini-batches\n",
    "            print(f'[{epoch + 1}, {i + 1:5d}] loss: {running_loss / 100:.3f}')\n",
    "            running_loss = 0.0\n",
    "\n",
    "print('Finished Training')"
   ]
  },
  {
   "cell_type": "code",
   "execution_count": 510,
   "id": "ced1022d",
   "metadata": {},
   "outputs": [],
   "source": [
    "def gen_error_traj(net, dataset):\n",
    "    item_to_idx = {np.array2string(dataset.items[i].numpy()) : i for i in range(dataset.max_items)}\n",
    "    all_inputs = torch.zeros(len(dataset), dataset.max_items)\n",
    "    all_labels = torch.zeros(len(dataset), dataset.max_items)\n",
    "    all_outputs = torch.zeros(len(dataset), dataset.max_items)\n",
    "    for i, (inputs, labels, mask) in enumerate(dataset):\n",
    "        outputs = net(inputs, mask).squeeze(-1).detach()\n",
    "        for j, tmp_in in enumerate(inputs):\n",
    "            if not mask[j]:\n",
    "                tmp_idx = item_to_idx[np.array2string(tmp_in.numpy())]\n",
    "                all_inputs[i, tmp_idx] = 1.0\n",
    "                all_labels[i, tmp_idx] = labels[j]\n",
    "                all_outputs[i, tmp_idx] = outputs[j]\n",
    "    \n",
    "    plt.figure(figsize=(20, 15), dpi=80)\n",
    "    plt.imshow(all_inputs.T)\n",
    "    plt.figure(figsize=(20, 15), dpi=80)\n",
    "    plt.imshow(all_labels.T)\n",
    "    plt.figure(figsize=(20, 15), dpi=80)\n",
    "    plt.imshow(all_outputs.T)"
   ]
  },
  {
   "cell_type": "code",
   "execution_count": 511,
   "id": "d0fc9b0c",
   "metadata": {},
   "outputs": [
    {
     "data": {
      "image/png": "[encoded data removed]",
      "text/plain": [
       "<Figure size 1600x1200 with 1 Axes>"
      ]
     },
     "metadata": {
      "needs_background": "light"
     },
     "output_type": "display_data"
    },
    {
     "data": {
      "image/png": "[encoded data removed]",
      "text/plain": [
       "<Figure size 1600x1200 with 1 Axes>"
      ]
     },
     "metadata": {
      "needs_background": "light"
     },
     "output_type": "display_data"
    },
    {
     "data": {
      "image/png": "[encoded data removed]",
      "text/plain": [
       "<Figure size 1600x1200 with 1 Axes>"
      ]
     },
     "metadata": {
      "needs_background": "light"
     },
     "output_type": "display_data"
    }
   ],
   "source": [
    "gen_error_traj(net, tmp_dataset)"
   ]
  }
 ],
 "metadata": {
  "kernelspec": {
   "display_name": "Python 3",
   "language": "python",
   "name": "python3"
  },
  "language_info": {
   "codemirror_mode": {
    "name": "ipython",
    "version": 3
   },
   "file_extension": ".py",
   "mimetype": "text/x-python",
   "name": "python",
   "nbconvert_exporter": "python",
   "pygments_lexer": "ipython3",
   "version": "3.8.10"
  }
 },
 "nbformat": 4,
 "nbformat_minor": 5
}
